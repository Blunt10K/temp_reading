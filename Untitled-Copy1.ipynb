{
 "cells": [
  {
   "cell_type": "code",
   "execution_count": 1,
   "id": "7aae8f0a",
   "metadata": {},
   "outputs": [],
   "source": [
    "import pandas as pd\n",
    "import mysql.connector as sqc"
   ]
  },
  {
   "cell_type": "code",
   "execution_count": 34,
   "id": "7e4df31f",
   "metadata": {},
   "outputs": [],
   "source": [
    "df = pd.read_csv(\"data.csv\")"
   ]
  },
  {
   "cell_type": "code",
   "execution_count": 7,
   "id": "5a2faf07",
   "metadata": {},
   "outputs": [],
   "source": [
    "def month_format(month):\n",
    "    d = {\"Sep\": \"09\",\"Oct\":\"10\"}\n",
    "    \n",
    "    return d[month]"
   ]
  },
  {
   "cell_type": "code",
   "execution_count": 18,
   "id": "ba51e8f1",
   "metadata": {},
   "outputs": [],
   "source": [
    "def time_format(hour):\n",
    "    if(hour<10):\n",
    "        return '0'+str(hour)\n",
    "    \n",
    "    return str(hour)"
   ]
  },
  {
   "cell_type": "code",
   "execution_count": 21,
   "id": "60cd4559",
   "metadata": {},
   "outputs": [],
   "source": [
    "datify = lambda day,month,year : time_format(day) +'-' + month_format(month) +'-'+ str(year) "
   ]
  },
  {
   "cell_type": "code",
   "execution_count": 22,
   "id": "226851c6",
   "metadata": {},
   "outputs": [],
   "source": [
    "timify = lambda time : time + ':00'  \n",
    "\n",
    "# df['Time'] = map(timify, df['Hour'],df['Minute'])"
   ]
  },
  {
   "cell_type": "code",
   "execution_count": 23,
   "id": "290e5739",
   "metadata": {},
   "outputs": [],
   "source": [
    "time = list(map(timify, df['Time']))"
   ]
  },
  {
   "cell_type": "code",
   "execution_count": 24,
   "id": "419ddc5a",
   "metadata": {},
   "outputs": [],
   "source": [
    "date = list(map(datify,df[\"Day\"],df[\"Month\"],df[\"Year\"]))"
   ]
  },
  {
   "cell_type": "code",
   "execution_count": 28,
   "id": "1f54987f",
   "metadata": {},
   "outputs": [],
   "source": [
    "df = df.drop(['Day','Month','Time','Year'],axis=1)"
   ]
  },
  {
   "cell_type": "code",
   "execution_count": 25,
   "id": "aecb3339",
   "metadata": {},
   "outputs": [
    {
     "data": {
      "text/plain": [
       "'22-09-2021'"
      ]
     },
     "execution_count": 25,
     "metadata": {},
     "output_type": "execute_result"
    }
   ],
   "source": [
    "date[0]"
   ]
  },
  {
   "cell_type": "code",
   "execution_count": 30,
   "id": "ca6a1ccf",
   "metadata": {},
   "outputs": [],
   "source": [
    "df.insert(0,\"Date\", date)"
   ]
  },
  {
   "cell_type": "code",
   "execution_count": 31,
   "id": "d36972f7",
   "metadata": {},
   "outputs": [],
   "source": [
    "df.insert(1,\"Time\", time)"
   ]
  },
  {
   "cell_type": "code",
   "execution_count": 33,
   "id": "45bc389e",
   "metadata": {},
   "outputs": [],
   "source": [
    "df.to_csv(\"data.csv\",index = False)"
   ]
  },
  {
   "cell_type": "code",
   "execution_count": 31,
   "id": "cfb0564f",
   "metadata": {},
   "outputs": [
    {
     "data": {
      "text/plain": [
       "11688"
      ]
     },
     "execution_count": 31,
     "metadata": {},
     "output_type": "execute_result"
    }
   ],
   "source": [
    "len(df)"
   ]
  },
  {
   "cell_type": "code",
   "execution_count": 4,
   "id": "4acb8a1a",
   "metadata": {},
   "outputs": [],
   "source": [
    "db = sqc.connect(host=\"localhost\",user='blunt',password ='Zomboy8897')\n",
    "cursor = db.cursor()"
   ]
  },
  {
   "cell_type": "code",
   "execution_count": 27,
   "id": "b3c76b8f",
   "metadata": {},
   "outputs": [
    {
     "data": {
      "text/plain": [
       "'00:00:00'"
      ]
     },
     "execution_count": 27,
     "metadata": {},
     "output_type": "execute_result"
    }
   ],
   "source": [
    "time[0]"
   ]
  },
  {
   "cell_type": "code",
   "execution_count": 35,
   "id": "26edc8f8",
   "metadata": {},
   "outputs": [
    {
     "data": {
      "text/html": [
       "<div>\n",
       "<style scoped>\n",
       "    .dataframe tbody tr th:only-of-type {\n",
       "        vertical-align: middle;\n",
       "    }\n",
       "\n",
       "    .dataframe tbody tr th {\n",
       "        vertical-align: top;\n",
       "    }\n",
       "\n",
       "    .dataframe thead th {\n",
       "        text-align: right;\n",
       "    }\n",
       "</style>\n",
       "<table border=\"1\" class=\"dataframe\">\n",
       "  <thead>\n",
       "    <tr style=\"text-align: right;\">\n",
       "      <th></th>\n",
       "      <th>Date</th>\n",
       "      <th>Time</th>\n",
       "      <th>Temperature(Celsius)</th>\n",
       "    </tr>\n",
       "  </thead>\n",
       "  <tbody>\n",
       "    <tr>\n",
       "      <th>0</th>\n",
       "      <td>22-09-2021</td>\n",
       "      <td>00:00:00</td>\n",
       "      <td>19.5</td>\n",
       "    </tr>\n",
       "    <tr>\n",
       "      <th>1</th>\n",
       "      <td>22-09-2021</td>\n",
       "      <td>00:01:00</td>\n",
       "      <td>19.5</td>\n",
       "    </tr>\n",
       "    <tr>\n",
       "      <th>2</th>\n",
       "      <td>22-09-2021</td>\n",
       "      <td>00:02:00</td>\n",
       "      <td>19.5</td>\n",
       "    </tr>\n",
       "    <tr>\n",
       "      <th>3</th>\n",
       "      <td>22-09-2021</td>\n",
       "      <td>00:29:00</td>\n",
       "      <td>0.5</td>\n",
       "    </tr>\n",
       "    <tr>\n",
       "      <th>4</th>\n",
       "      <td>22-09-2021</td>\n",
       "      <td>00:30:00</td>\n",
       "      <td>19.5</td>\n",
       "    </tr>\n",
       "  </tbody>\n",
       "</table>\n",
       "</div>"
      ],
      "text/plain": [
       "         Date      Time  Temperature(Celsius)\n",
       "0  22-09-2021  00:00:00                  19.5\n",
       "1  22-09-2021  00:01:00                  19.5\n",
       "2  22-09-2021  00:02:00                  19.5\n",
       "3  22-09-2021  00:29:00                   0.5\n",
       "4  22-09-2021  00:30:00                  19.5"
      ]
     },
     "execution_count": 35,
     "metadata": {},
     "output_type": "execute_result"
    }
   ],
   "source": [
    "df.head()"
   ]
  },
  {
   "cell_type": "code",
   "execution_count": 6,
   "id": "65cd2e3f",
   "metadata": {},
   "outputs": [
    {
     "data": {
      "text/plain": [
       "19363"
      ]
     },
     "execution_count": 6,
     "metadata": {},
     "output_type": "execute_result"
    }
   ],
   "source": []
  },
  {
   "cell_type": "code",
   "execution_count": null,
   "id": "ac8a0319",
   "metadata": {},
   "outputs": [],
   "source": []
  }
 ],
 "metadata": {
  "kernelspec": {
   "display_name": "Python 3",
   "language": "python",
   "name": "python3"
  },
  "language_info": {
   "codemirror_mode": {
    "name": "ipython",
    "version": 3
   },
   "file_extension": ".py",
   "mimetype": "text/x-python",
   "name": "python",
   "nbconvert_exporter": "python",
   "pygments_lexer": "ipython3",
   "version": "3.7.3"
  }
 },
 "nbformat": 4,
 "nbformat_minor": 5
}
