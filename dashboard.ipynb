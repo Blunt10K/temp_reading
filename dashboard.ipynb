{
 "cells": [
  {
   "cell_type": "code",
   "execution_count": 1,
   "id": "9da74c43",
   "metadata": {},
   "outputs": [],
   "source": [
    "import pandas as pd\n",
    "from to_db import Connector"
   ]
  },
  {
   "cell_type": "markdown",
   "id": "224ac7bd",
   "metadata": {},
   "source": [
    "### The following cell pulls the temperature data from the database and group by date "
   ]
  },
  {
   "cell_type": "code",
   "execution_count": 2,
   "id": "bf291290",
   "metadata": {},
   "outputs": [],
   "source": [
    "conn = Connector()\n",
    "df = conn.get_data()\n",
    "df[\"date\"] = pd.to_datetime(df['date'])\n",
    "data = df.groupby(\"date\").mean()"
   ]
  },
  {
   "cell_type": "code",
   "execution_count": 3,
   "id": "8b0218a2",
   "metadata": {},
   "outputs": [],
   "source": [
    "from datetime import datetime"
   ]
  },
  {
   "cell_type": "code",
   "execution_count": 4,
   "id": "d41fafe7",
   "metadata": {},
   "outputs": [],
   "source": [
    "from time import localtime,strftime,time"
   ]
  },
  {
   "cell_type": "code",
   "execution_count": 17,
   "id": "e966e34f",
   "metadata": {},
   "outputs": [],
   "source": [
    "from mariadb import Date"
   ]
  },
  {
   "cell_type": "code",
   "execution_count": 26,
   "id": "28b70a7d",
   "metadata": {},
   "outputs": [],
   "source": [
    "def get_daily_temp(date):\n",
    "    d = Date(date.year,date.month,date.day)\n",
    "    return conn.dates(d)"
   ]
  },
  {
   "cell_type": "code",
   "execution_count": 27,
   "id": "c3db520e",
   "metadata": {},
   "outputs": [],
   "source": [
    "td = datetime.now()"
   ]
  },
  {
   "cell_type": "code",
   "execution_count": 28,
   "id": "d537ccd8",
   "metadata": {},
   "outputs": [],
   "source": [
    "daily = get_daily_temp(td.date())"
   ]
  },
  {
   "cell_type": "code",
   "execution_count": 7,
   "id": "29793921",
   "metadata": {},
   "outputs": [],
   "source": [
    "import serial"
   ]
  },
  {
   "cell_type": "code",
   "execution_count": 8,
   "id": "939d7bdf",
   "metadata": {},
   "outputs": [],
   "source": [
    "from numpy import median"
   ]
  },
  {
   "cell_type": "code",
   "execution_count": 9,
   "id": "c588a15e",
   "metadata": {},
   "outputs": [],
   "source": [
    "def date_range():\n",
    "    obj = dcc.DatePickerSingle(\n",
    "        id='date_picker',\n",
    "        min_date_allowed = data.index[0],\n",
    "        max_date_allowed = date.today(),\n",
    "        initial_visible_month = date.today(),\n",
    "        date = date.today()\n",
    "    )\n",
    "    \n",
    "    return obj"
   ]
  },
  {
   "cell_type": "code",
   "execution_count": 10,
   "id": "31c293af",
   "metadata": {},
   "outputs": [],
   "source": [
    "def statistics():\n",
    "    obj = dcc.RadioItems(\n",
    "        id = \"stats\",\n",
    "        options=[\n",
    "            {'label': 'max','value':'max'},\n",
    "            {'label': 'min','value':'min'},\n",
    "            {'label': 'mean','value':'mean'}],\n",
    "        value = 'mean',\n",
    "        style = {'color':colours['radio_button'],\n",
    "                'fontSize':text_size['radio_button']}\n",
    "    )\n",
    "    \n",
    "    return obj"
   ]
  },
  {
   "cell_type": "code",
   "execution_count": 11,
   "id": "dacc9f54",
   "metadata": {},
   "outputs": [],
   "source": [
    "def temperature_dial():\n",
    "    temp  = read_temp(ser)\n",
    "    dial = go.Indicator(mode=\"gauge+number\",value=temp,\n",
    "                        title={'text':'Temperature/C'},\n",
    "                        gauge = {'bar':{'color':'black'},\n",
    "                                 'axis':{'range':(None, 60)},\n",
    "                                 'steps':[{'range':[0,16],'color':'lightblue'},\n",
    "                                          {'range':[16,28],'color':'lightgreen'},\n",
    "                                          {'range':[28,60],'color':'#FF7F7F'}]\n",
    "                            \n",
    "                        })\n",
    "    \n",
    "    return dial"
   ]
  },
  {
   "cell_type": "code",
   "execution_count": 12,
   "id": "d469538a",
   "metadata": {},
   "outputs": [],
   "source": [
    "ser = serial.Serial('/dev/ttyACM0')\n",
    "ser.flushInput()"
   ]
  },
  {
   "cell_type": "code",
   "execution_count": 13,
   "id": "86fe7a09",
   "metadata": {},
   "outputs": [],
   "source": [
    "READINGS = 20"
   ]
  },
  {
   "cell_type": "code",
   "execution_count": 14,
   "id": "3c448e5a",
   "metadata": {},
   "outputs": [],
   "source": [
    "def read_temp(ser):\n",
    "    while True:\n",
    "        readings = []\n",
    "        try:\n",
    "            for i in range(READINGS):\n",
    "                bytes = ser.readline()\n",
    "                decoded = bytes[0:len(bytes)-2].decode(\"utf-8\")\n",
    "                decoded = float(decoded)\n",
    "                readings.append(decoded)\n",
    "            break\n",
    "        except:\n",
    "            pass\n",
    "\n",
    "    return median(decoded)"
   ]
  },
  {
   "cell_type": "code",
   "execution_count": 44,
   "id": "754ce529",
   "metadata": {
    "scrolled": true
   },
   "outputs": [],
   "source": [
    "from jupyter_dash import JupyterDash\n",
    "from dash import dcc\n",
    "from dash import html\n",
    "from dash.dependencies import Input, Output\n",
    "import plotly.express as px\n",
    "from plotly.subplots import make_subplots\n",
    "import plotly.graph_objects as go\n",
    "from datetime import date\n",
    "\n",
    "\n",
    "\n",
    "stats = {\"mean\": df.groupby(\"date\").mean(),\"max\":df.groupby(\"date\").max(),\"min\":df.groupby(\"date\").min()}\n",
    "\n",
    "\n",
    "app = JupyterDash(__name__)\n",
    "colours = {'text': '#7FDBFF', 'background':'#777777','radio_button':'#DDDDDD'}\n",
    "text_size = {'H1':48,'H2':40,'text':36,'radio_button':28}\n",
    "\n",
    "# fig = make_subplots(rows = 1, cols= 2)\n",
    "\n",
    "# fig.add_trace(go.Scatter(x = data.index, y = data[\"temperature\"]),row=1,col=1)\n",
    "# fig.add_trace(go.Scatter(x= today[\"time\"], y= today[\"temperature\"]),row=1,col=2)\n",
    "\n",
    "fig = px.scatter(x = data.index, y = data[\"temperature\"])\n",
    "# fig = px.scatter(df, x = \"date\" , y = \"temperature\")\n",
    "\n",
    "fig.update_yaxes(rangemode = \"tozero\")\n",
    "\n",
    "fig2 = go.Figure(temperature_dial())\n",
    "\n",
    "fig3 = px.scatter(daily,\"time\", \"temperature\",title= \"Daily breakdown for: \"+td.strftime(\"%a %d %b %Y\"))\n",
    "fig3.update_yaxes(rangemode = \"tozero\")\n",
    "\n",
    "app.layout = html.Div(style={'backgroundColor':colours['background'],'fontFamily':'calibri'}, children=[\n",
    "\n",
    "    html.H1(children='Room Temperature',\n",
    "        style = {'textAlign': 'center',\n",
    "                 'color':colours['text'],\n",
    "                 'fontSize':text_size['H1']}),\n",
    "\n",
    "    dcc.Graph(\n",
    "        id='graph2',\n",
    "        figure=fig2\n",
    "    ),\n",
    "    \n",
    "    html.Div([html.Label(\"Stats: \", style = {'textAlign': 'center',\n",
    "                 'color':colours['text'],\n",
    "                 'fontSize':text_size['text']}),\n",
    "                statistics()\n",
    "             ],style = {'textAlign': 'center',\"flex\":1}\n",
    "    ),\n",
    "    \n",
    "    \n",
    "\n",
    "    dcc.Graph(\n",
    "        id='graph',\n",
    "        figure=fig\n",
    "    ),\n",
    "    \n",
    "    html.Div([html.Label(\"Choose date for daily breakdown: \", style = {'textAlign': 'center',\n",
    "                 'color':colours['text'],\n",
    "                 'fontSize':text_size['text']}),\n",
    "              html.Br(),\n",
    "              date_range()\n",
    "             ],style = {'textAlign': 'center',\"flex\":1}\n",
    "    ),\n",
    "\n",
    "    \n",
    "    dcc.Graph(\n",
    "        id='graph3',\n",
    "        figure=fig3\n",
    "    )\n",
    "])\n",
    "\n",
    "@app.callback(\n",
    "    Output('graph2','figure'),\n",
    "    Output('graph','figure'),\n",
    "    Output('graph3','figure'),\n",
    "    Input('stats','value'),\n",
    "    Input('date_picker','date'))\n",
    "def update_figure(stat,day):\n",
    "    temp  = read_temp(ser)\n",
    "    data = stats[stat]\n",
    "    day = datetime.strptime(day,\"%Y-%m-%d\").date()\n",
    "    \n",
    "    daily =  get_daily_temp(day)\n",
    "    \n",
    "\n",
    "#     fig = px.scatter(df, x = \"date\" , y = \"temperature\")\n",
    "\n",
    "    fig = px.scatter(x = data.index, y = data[\"temperature\"],title=stat.capitalize() + \" temperature over time\")\n",
    "    fig.update_yaxes(rangemode = \"tozero\")\n",
    "    fig2 = go.Figure(temperature_dial())\n",
    "\n",
    "    fig3 = px.scatter(daily,\"time\", \"temperature\",title=\"Temperature breakdown for: \"+day.strftime(\"%a %d %b %Y\"))\n",
    "    fig3.update_yaxes(rangemode = \"tozero\")\n",
    "#     fig.data =[]\n",
    "\n",
    "#     fig.add_trace(go.Scatter(x = data.index, y = data[\"temperature\"]),row=1,col=1)\n",
    "#     fig.add_trace(go.Scatter(x=today[\"time\"], y=today[\"temperature\"]),row=1,col=2)\n",
    "#     fig.update_layout(showlegend=False)\n",
    "    \n",
    "    return fig2,fig,fig3"
   ]
  },
  {
   "cell_type": "code",
   "execution_count": 45,
   "id": "e17e52c4",
   "metadata": {
    "scrolled": false
   },
   "outputs": [
    {
     "name": "stdout",
     "output_type": "stream",
     "text": [
      "Dash app running on http://127.0.0.1:8050/\n"
     ]
    },
    {
     "name": "stderr",
     "output_type": "stream",
     "text": [
      "/home/blunt/.local/lib/python3.7/site-packages/jupyter_dash/jupyter_app.py:139: UserWarning:\n",
      "\n",
      "The 'environ['werkzeug.server.shutdown']' function is deprecated and will be removed in Werkzeug 2.1.\n",
      "\n"
     ]
    }
   ],
   "source": [
    "app.run_server(mode = \"external\")"
   ]
  },
  {
   "cell_type": "code",
   "execution_count": null,
   "id": "abedc1ee",
   "metadata": {},
   "outputs": [],
   "source": []
  }
 ],
 "metadata": {
  "kernelspec": {
   "display_name": "Python 3",
   "language": "python",
   "name": "python3"
  },
  "language_info": {
   "codemirror_mode": {
    "name": "ipython",
    "version": 3
   },
   "file_extension": ".py",
   "mimetype": "text/x-python",
   "name": "python",
   "nbconvert_exporter": "python",
   "pygments_lexer": "ipython3",
   "version": "3.7.3"
  }
 },
 "nbformat": 4,
 "nbformat_minor": 5
}
