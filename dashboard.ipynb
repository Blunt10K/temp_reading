{
 "cells": [
  {
   "cell_type": "code",
   "execution_count": 26,
   "id": "9da74c43",
   "metadata": {},
   "outputs": [],
   "source": [
    "import pandas as pd\n",
    "from to_db import Connector"
   ]
  },
  {
   "cell_type": "markdown",
   "id": "224ac7bd",
   "metadata": {},
   "source": [
    "### The following cell pulls the temperature data from the database and group by date "
   ]
  },
  {
   "cell_type": "code",
   "execution_count": 103,
   "id": "bf291290",
   "metadata": {},
   "outputs": [],
   "source": [
    "conn = Connector()\n",
    "df = conn.get_data()\n",
    "df[\"date\"] = pd.to_datetime(df['date'])\n",
    "data = df.groupby(\"date\").mean()"
   ]
  },
  {
   "cell_type": "code",
   "execution_count": 124,
   "id": "8b0218a2",
   "metadata": {},
   "outputs": [],
   "source": [
    "from datetime import datetime"
   ]
  },
  {
   "cell_type": "code",
   "execution_count": 99,
   "id": "d41fafe7",
   "metadata": {},
   "outputs": [],
   "source": [
    "from time import localtime,strftime,time"
   ]
  },
  {
   "cell_type": "code",
   "execution_count": 86,
   "id": "c3db520e",
   "metadata": {},
   "outputs": [],
   "source": [
    "td = datetime.now()"
   ]
  },
  {
   "cell_type": "code",
   "execution_count": 106,
   "id": "d537ccd8",
   "metadata": {},
   "outputs": [
    {
     "name": "stderr",
     "output_type": "stream",
     "text": [
      "/usr/lib/python3/dist-packages/ipykernel_launcher.py:1: FutureWarning:\n",
      "\n",
      "Comparing Series of datetimes with 'datetime.date'.  Currently, the\n",
      "'datetime.date' is coerced to a datetime. In the future pandas will\n",
      "not coerce, and 'the values will not compare equal to the\n",
      "'datetime.date'. To retain the current behavior, convert the\n",
      "'datetime.date' to a datetime with 'pd.Timestamp'.\n",
      "\n"
     ]
    }
   ],
   "source": [
    "today = df.loc[df['date'] == td.date()]\n",
    "daily = today"
   ]
  },
  {
   "cell_type": "code",
   "execution_count": 73,
   "id": "29793921",
   "metadata": {},
   "outputs": [],
   "source": [
    "import serial"
   ]
  },
  {
   "cell_type": "code",
   "execution_count": 74,
   "id": "939d7bdf",
   "metadata": {},
   "outputs": [],
   "source": [
    "from numpy import median"
   ]
  },
  {
   "cell_type": "code",
   "execution_count": 75,
   "id": "c588a15e",
   "metadata": {},
   "outputs": [],
   "source": [
    "def date_range():\n",
    "    obj = dcc.DatePickerSingle(\n",
    "        id='date_picker',\n",
    "        min_date_allowed = data.index[0],\n",
    "        max_date_allowed = date.today(),\n",
    "        initial_visible_month = date.today(),\n",
    "        date = date.today()\n",
    "    )\n",
    "    \n",
    "    return obj"
   ]
  },
  {
   "cell_type": "code",
   "execution_count": 76,
   "id": "31c293af",
   "metadata": {},
   "outputs": [],
   "source": [
    "def statistics():\n",
    "    obj = dcc.RadioItems(\n",
    "        id = \"stats\",\n",
    "        options=[\n",
    "            {'label': 'max','value':'max'},\n",
    "            {'label': 'min','value':'min'},\n",
    "            {'label': 'mean','value':'mean'}],\n",
    "        value = 'mean'\n",
    "    )\n",
    "    \n",
    "    return obj"
   ]
  },
  {
   "cell_type": "code",
   "execution_count": 77,
   "id": "d469538a",
   "metadata": {},
   "outputs": [],
   "source": [
    "ser = serial.Serial('/dev/ttyACM0')\n",
    "ser.flushInput()"
   ]
  },
  {
   "cell_type": "code",
   "execution_count": 78,
   "id": "86fe7a09",
   "metadata": {},
   "outputs": [],
   "source": [
    "READINGS = 20"
   ]
  },
  {
   "cell_type": "code",
   "execution_count": 79,
   "id": "3c448e5a",
   "metadata": {},
   "outputs": [],
   "source": [
    "def read_temp(ser):\n",
    "    while True:\n",
    "        readings = []\n",
    "        try:\n",
    "            for i in range(READINGS):\n",
    "                bytes = ser.readline()\n",
    "                decoded = bytes[0:len(bytes)-2].decode(\"utf-8\")\n",
    "                decoded = float(decoded)\n",
    "                readings.append(decoded)\n",
    "            break\n",
    "        except:\n",
    "            pass\n",
    "\n",
    "    return median(decoded)"
   ]
  },
  {
   "cell_type": "code",
   "execution_count": 80,
   "id": "475bf59e",
   "metadata": {},
   "outputs": [],
   "source": [
    "temp  = read_temp(ser)\n",
    "old = None"
   ]
  },
  {
   "cell_type": "code",
   "execution_count": 122,
   "id": "754ce529",
   "metadata": {},
   "outputs": [],
   "source": [
    "from jupyter_dash import JupyterDash\n",
    "from dash import dcc\n",
    "from dash import html\n",
    "from dash.dependencies import Input, Output\n",
    "import plotly.express as px\n",
    "from plotly.subplots import make_subplots\n",
    "import plotly.graph_objects as go\n",
    "from datetime import date\n",
    "\n",
    "\n",
    "\n",
    "stats = {\"mean\": df.groupby(\"date\").mean(),\"max\":df.groupby(\"date\").max(),\"min\":df.groupby(\"date\").min()}\n",
    "\n",
    "\n",
    "app = JupyterDash(__name__)\n",
    "colours = {'text': '#7FDBFF', 'background':'#777777'}\n",
    "text_size = {'H1':48,'H2':40,'text':36}\n",
    "\n",
    "# fig = make_subplots(rows = 1, cols= 2)\n",
    "\n",
    "# fig.add_trace(go.Scatter(x = data.index, y = data[\"temperature\"]),row=1,col=1)\n",
    "# fig.add_trace(go.Scatter(x= today[\"time\"], y= today[\"temperature\"]),row=1,col=2)\n",
    "\n",
    "fig = px.scatter(x = data.index, y = data[\"temperature\"])\n",
    "# fig = px.scatter(df, x = \"date\" , y = \"temperature\")\n",
    "\n",
    "fig.update_yaxes(rangemode = \"tozero\")\n",
    "\n",
    "fig2 = go.Figure(go.Indicator(mode=\"gauge+number\",value=temp,title={'text':'Temperature/C'}))\n",
    "\n",
    "fig3 = px.scatter(daily,\"time\", \"temperature\")\n",
    "fig3.update_yaxes(rangemode = \"tozero\")\n",
    "\n",
    "app.layout = html.Div(style={'backgroundColor':colours['background'],'fontFamily':'calibri'}, children=[\n",
    "\n",
    "    html.H1(children='Room Temperature',\n",
    "        style = {'textAlign': 'center',\n",
    "                 'color':colours['text'],\n",
    "                 'fontSize':text_size['H1']}),\n",
    "\n",
    "    dcc.Graph(\n",
    "        id='graph2',\n",
    "        figure=fig2\n",
    "    ),\n",
    "    \n",
    "    \n",
    "    statistics(),\n",
    "    \n",
    "\n",
    "    dcc.Graph(\n",
    "        id='graph',\n",
    "        figure=fig\n",
    "    ),\n",
    "    \n",
    "    date_range(),\n",
    "\n",
    "    \n",
    "    dcc.Graph(\n",
    "        id='graph3',\n",
    "        figure=fig3\n",
    "    )\n",
    "])\n",
    "\n",
    "@app.callback(\n",
    "    Output('graph2','figure'),\n",
    "    Output('graph','figure'),\n",
    "    Output('graph3','figure'),\n",
    "    Input('stats','value'),\n",
    "    Input('date_picker','date'))\n",
    "def update_figure(stat,day):\n",
    "    temp  = read_temp(ser)\n",
    "    data = stats[stat]\n",
    "    day = datetime.strptime(day,\"%Y-%m-%d\")\n",
    "#     print(day)\n",
    "    \n",
    "    daily = df.loc[df['date'] == day.date()]\n",
    "    \n",
    "    old = temp\n",
    "#     fig = px.scatter(df, x = \"date\" , y = \"temperature\")\n",
    "\n",
    "    fig = px.scatter(x = data.index, y = data[\"temperature\"])\n",
    "    fig.update_yaxes(rangemode = \"tozero\")\n",
    "    fig2 = go.Figure(go.Indicator(mode=\"gauge+number\",value=temp,title={'text':'Temperature/C'},delta={'reference':old}))\n",
    "\n",
    "    fig3 = px.scatter(daily,\"time\", \"temperature\")\n",
    "    fig3.update_yaxes(rangemode = \"tozero\")\n",
    "#     fig.data =[]\n",
    "\n",
    "#     fig.add_trace(go.Scatter(x = data.index, y = data[\"temperature\"]),row=1,col=1)\n",
    "#     fig.add_trace(go.Scatter(x=today[\"time\"], y=today[\"temperature\"]),row=1,col=2)\n",
    "#     fig.update_layout(showlegend=False)\n",
    "    \n",
    "    return fig2,fig,fig3"
   ]
  },
  {
   "cell_type": "code",
   "execution_count": 123,
   "id": "e17e52c4",
   "metadata": {
    "scrolled": true
   },
   "outputs": [
    {
     "name": "stderr",
     "output_type": "stream",
     "text": [
      "/home/blunt/.local/lib/python3.7/site-packages/jupyter_dash/jupyter_app.py:139: UserWarning:\n",
      "\n",
      "The 'environ['werkzeug.server.shutdown']' function is deprecated and will be removed in Werkzeug 2.1.\n",
      "\n"
     ]
    },
    {
     "name": "stdout",
     "output_type": "stream",
     "text": [
      "Dash app running on http://127.0.0.1:8050/\n"
     ]
    },
    {
     "name": "stderr",
     "output_type": "stream",
     "text": [
      "/usr/lib/python3/dist-packages/ipykernel_launcher.py:76: FutureWarning:\n",
      "\n",
      "Comparing Series of datetimes with 'datetime.date'.  Currently, the\n",
      "'datetime.date' is coerced to a datetime. In the future pandas will\n",
      "not coerce, and 'the values will not compare equal to the\n",
      "'datetime.date'. To retain the current behavior, convert the\n",
      "'datetime.date' to a datetime with 'pd.Timestamp'.\n",
      "\n"
     ]
    }
   ],
   "source": [
    "app.run_server(mode = \"external\")"
   ]
  },
  {
   "cell_type": "code",
   "execution_count": null,
   "id": "e966e34f",
   "metadata": {},
   "outputs": [],
   "source": []
  }
 ],
 "metadata": {
  "kernelspec": {
   "display_name": "Python 3",
   "language": "python",
   "name": "python3"
  },
  "language_info": {
   "codemirror_mode": {
    "name": "ipython",
    "version": 3
   },
   "file_extension": ".py",
   "mimetype": "text/x-python",
   "name": "python",
   "nbconvert_exporter": "python",
   "pygments_lexer": "ipython3",
   "version": "3.7.3"
  }
 },
 "nbformat": 4,
 "nbformat_minor": 5
}
