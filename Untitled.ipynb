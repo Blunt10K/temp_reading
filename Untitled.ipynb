{
 "cells": [
  {
   "cell_type": "code",
   "execution_count": 19,
   "id": "c588a15e",
   "metadata": {},
   "outputs": [],
   "source": [
    "def date_range():\n",
    "    obj = dcc.DatePickerRange(\n",
    "        id='date_picker',\n",
    "        min_date_allowed = data.index[0],\n",
    "        max_date_allowed = date.today(),\n",
    "        initial_visible_month = date.today(),\n",
    "        end_date = date.today()\n",
    "    )\n",
    "    \n",
    "    return obj"
   ]
  },
  {
   "cell_type": "code",
   "execution_count": 20,
   "id": "31c293af",
   "metadata": {},
   "outputs": [],
   "source": [
    "def statistics():\n",
    "    obj = dcc.RadioItems(\n",
    "        id = \"stats\",\n",
    "        options=[\n",
    "            {'label': 'max','value':'max'},\n",
    "            {'label': 'min','value':'min'},\n",
    "            {'label': 'mean','value':'mean'}],\n",
    "        value = 'mean'\n",
    "    )\n",
    "    \n",
    "    return obj"
   ]
  },
  {
   "cell_type": "code",
   "execution_count": 21,
   "id": "754ce529",
   "metadata": {},
   "outputs": [],
   "source": [
    "from jupyter_dash import JupyterDash\n",
    "from dash import dcc\n",
    "from dash import html\n",
    "from dash.dependencies import Input, Output\n",
    "import plotly.express as px\n",
    "import pandas as pd\n",
    "from datetime import date\n",
    "from to_db import Connector\n",
    "\n",
    "conn = Connector()\n",
    "df = conn.get_data()\n",
    "data = df.groupby(\"date\").mean()\n",
    "\n",
    "app = JupyterDash(__name__)\n",
    "colours = {'text': '#0000FF', 'background':'#FFFFFF'}\n",
    "text_size = {'H1':48,'H2':40,'text':36}\n",
    "fig = px.scatter(x = data.index, y = data[\"temperature\"])\n",
    "fig.update_yaxes(rangemode = \"tozero\")\n",
    "stats = {\"mean\": df.groupby(\"date\").mean(),\"max\":df.groupby(\"date\").max(),\"min\":df.groupby(\"date\").min()}\n",
    "\n",
    "app.layout = html.Div(style={'backgroundColor':colours['background'],'fontFamily':'calibri'}, children=[\n",
    "\n",
    "    html.H1(children='Room Temperature',\n",
    "        style = {'textAlign': 'center',\n",
    "                 'color':colours['text'],\n",
    "                 'fontSize':text_size['H1']}),\n",
    "\n",
    "    date_range(),\n",
    "    \n",
    "    statistics(),\n",
    "    \n",
    "#     html.Div(children=[\n",
    "#             ,\n",
    "            \n",
    "#             html.Div(children = [\n",
    "#                         html.Label(\"Stats\",style = {'textAlign': 'right','color':colours['text'],'fontSize':text_size['text']}),\n",
    "\n",
    "                        \n",
    "#                     ], style = {'textAlign': 'right','color':colours['text'],'fontSize':text_size['text']}\n",
    "#             )\n",
    "#         ],style = {'width':'100%','display':'inline-block'}\n",
    "#     ),\n",
    "\n",
    "\n",
    "#     html.Br(),\n",
    "#     html.Br(),\n",
    "\n",
    "#     html.Div([\n",
    "#         dcc.RangeSlider(\n",
    "#             id = 'range_slider',\n",
    "#             min = 0,\n",
    "#             max = 23,\n",
    "#             step = 1,\n",
    "#             value = [0,23],\n",
    "#             allowCross = False,\n",
    "#             tooltip = {'placement':'bottom','always_visible':True}\n",
    "#         ),\n",
    "#         html.Div(id='out_range_slider')\n",
    "#     ]),\n",
    "\n",
    "\n",
    "    dcc.Graph(\n",
    "        id='graph',\n",
    "        figure=fig\n",
    "    )\n",
    "])\n",
    "\n",
    "@app.callback(\n",
    "    Output('graph','figure'),\n",
    "    Input('stats','value'))\n",
    "def update_figure(stat):\n",
    "    data = stats[stat]\n",
    "    fig = px.scatter(x = data.index, y = data[\"temperature\"])\n",
    "    fig.update_yaxes(rangemode = \"tozero\")\n",
    "    \n",
    "    return fig"
   ]
  },
  {
   "cell_type": "code",
   "execution_count": 22,
   "id": "e17e52c4",
   "metadata": {},
   "outputs": [
    {
     "name": "stderr",
     "output_type": "stream",
     "text": [
      "/home/blunt/.local/lib/python3.7/site-packages/jupyter_dash/jupyter_app.py:139: UserWarning:\n",
      "\n",
      "The 'environ['werkzeug.server.shutdown']' function is deprecated and will be removed in Werkzeug 2.1.\n",
      "\n"
     ]
    },
    {
     "data": {
      "text/html": [
       "\n",
       "        <iframe\n",
       "            width=\"100%\"\n",
       "            height=\"650\"\n",
       "            src=\"http://127.0.0.1:8050/\"\n",
       "            frameborder=\"0\"\n",
       "            allowfullscreen\n",
       "        ></iframe>\n",
       "        "
      ],
      "text/plain": [
       "<IPython.lib.display.IFrame at 0xa67abcb0>"
      ]
     },
     "metadata": {},
     "output_type": "display_data"
    }
   ],
   "source": [
    "app.run_server(mode = \"inline\")"
   ]
  },
  {
   "cell_type": "code",
   "execution_count": 1,
   "id": "62d8737c",
   "metadata": {},
   "outputs": [],
   "source": [
    "from to_db import Connector"
   ]
  },
  {
   "cell_type": "code",
   "execution_count": 2,
   "id": "a7d5177a",
   "metadata": {},
   "outputs": [],
   "source": [
    "conn = Connector()"
   ]
  },
  {
   "cell_type": "code",
   "execution_count": 21,
   "id": "b4386ba2",
   "metadata": {},
   "outputs": [],
   "source": [
    "dat = conn.get_data()"
   ]
  },
  {
   "cell_type": "code",
   "execution_count": 8,
   "id": "29793921",
   "metadata": {},
   "outputs": [
    {
     "data": {
      "text/html": [
       "<div>\n",
       "<style scoped>\n",
       "    .dataframe tbody tr th:only-of-type {\n",
       "        vertical-align: middle;\n",
       "    }\n",
       "\n",
       "    .dataframe tbody tr th {\n",
       "        vertical-align: top;\n",
       "    }\n",
       "\n",
       "    .dataframe thead th {\n",
       "        text-align: right;\n",
       "    }\n",
       "</style>\n",
       "<table border=\"1\" class=\"dataframe\">\n",
       "  <thead>\n",
       "    <tr style=\"text-align: right;\">\n",
       "      <th></th>\n",
       "      <th>id</th>\n",
       "      <th>temperature</th>\n",
       "    </tr>\n",
       "    <tr>\n",
       "      <th>date</th>\n",
       "      <th></th>\n",
       "      <th></th>\n",
       "    </tr>\n",
       "  </thead>\n",
       "  <tbody>\n",
       "    <tr>\n",
       "      <th>2021-09-22</th>\n",
       "      <td>605.0</td>\n",
       "      <td>19.274194</td>\n",
       "    </tr>\n",
       "    <tr>\n",
       "      <th>2021-09-23</th>\n",
       "      <td>1929.0</td>\n",
       "      <td>19.421473</td>\n",
       "    </tr>\n",
       "    <tr>\n",
       "      <th>2021-09-24</th>\n",
       "      <td>3368.5</td>\n",
       "      <td>18.829514</td>\n",
       "    </tr>\n",
       "    <tr>\n",
       "      <th>2021-09-25</th>\n",
       "      <td>4808.5</td>\n",
       "      <td>19.751042</td>\n",
       "    </tr>\n",
       "    <tr>\n",
       "      <th>2021-09-26</th>\n",
       "      <td>6248.5</td>\n",
       "      <td>20.430903</td>\n",
       "    </tr>\n",
       "  </tbody>\n",
       "</table>\n",
       "</div>"
      ],
      "text/plain": [
       "                id  temperature\n",
       "date                           \n",
       "2021-09-22   605.0    19.274194\n",
       "2021-09-23  1929.0    19.421473\n",
       "2021-09-24  3368.5    18.829514\n",
       "2021-09-25  4808.5    19.751042\n",
       "2021-09-26  6248.5    20.430903"
      ]
     },
     "execution_count": 8,
     "metadata": {},
     "output_type": "execute_result"
    }
   ],
   "source": [
    "data.groupby(\"date\").mean().head()"
   ]
  },
  {
   "cell_type": "code",
   "execution_count": 8,
   "id": "d469538a",
   "metadata": {},
   "outputs": [],
   "source": [
    "d = stats[\"mean\"]"
   ]
  },
  {
   "cell_type": "code",
   "execution_count": 16,
   "id": "3c448e5a",
   "metadata": {},
   "outputs": [
    {
     "data": {
      "text/html": [
       "<div>\n",
       "<style scoped>\n",
       "    .dataframe tbody tr th:only-of-type {\n",
       "        vertical-align: middle;\n",
       "    }\n",
       "\n",
       "    .dataframe tbody tr th {\n",
       "        vertical-align: top;\n",
       "    }\n",
       "\n",
       "    .dataframe thead th {\n",
       "        text-align: right;\n",
       "    }\n",
       "</style>\n",
       "<table border=\"1\" class=\"dataframe\">\n",
       "  <thead>\n",
       "    <tr style=\"text-align: right;\">\n",
       "      <th></th>\n",
       "      <th>id</th>\n",
       "      <th>temperature</th>\n",
       "    </tr>\n",
       "    <tr>\n",
       "      <th>date</th>\n",
       "      <th></th>\n",
       "      <th></th>\n",
       "    </tr>\n",
       "  </thead>\n",
       "  <tbody>\n",
       "  </tbody>\n",
       "</table>\n",
       "</div>"
      ],
      "text/plain": [
       "Empty DataFrame\n",
       "Columns: [id, temperature]\n",
       "Index: []"
      ]
     },
     "execution_count": 16,
     "metadata": {},
     "output_type": "execute_result"
    }
   ],
   "source": [
    "d[-1:-15]"
   ]
  },
  {
   "cell_type": "code",
   "execution_count": 18,
   "id": "18bacce0",
   "metadata": {},
   "outputs": [
    {
     "data": {
      "text/plain": [
       "Index([2022-01-07, 2022-01-08, 2022-01-09, 2022-01-10, 2022-01-11, 2022-01-12,\n",
       "       2022-01-13, 2022-01-14, 2022-01-15, 2022-01-16, 2022-01-17, 2022-01-18,\n",
       "       2022-01-19, 2022-01-20],\n",
       "      dtype='object', name='date')"
      ]
     },
     "execution_count": 18,
     "metadata": {},
     "output_type": "execute_result"
    }
   ],
   "source": [
    "d.index[-15:-1]"
   ]
  },
  {
   "cell_type": "code",
   "execution_count": null,
   "id": "939d7bdf",
   "metadata": {},
   "outputs": [],
   "source": []
  }
 ],
 "metadata": {
  "kernelspec": {
   "display_name": "Python 3",
   "language": "python",
   "name": "python3"
  },
  "language_info": {
   "codemirror_mode": {
    "name": "ipython",
    "version": 3
   },
   "file_extension": ".py",
   "mimetype": "text/x-python",
   "name": "python",
   "nbconvert_exporter": "python",
   "pygments_lexer": "ipython3",
   "version": "3.7.3"
  }
 },
 "nbformat": 4,
 "nbformat_minor": 5
}
