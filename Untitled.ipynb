{
 "cells": [
  {
   "cell_type": "code",
   "execution_count": 1,
   "id": "c588a15e",
   "metadata": {},
   "outputs": [],
   "source": [
    "def date_range():\n",
    "    obj = dcc.DatePickerSingle(\n",
    "        id='date_picker',\n",
    "        min_date_allowed = data.index[0],\n",
    "        max_date_allowed = date.today(),\n",
    "        initial_visible_month = date.today(),\n",
    "        date = date.today()\n",
    "    )\n",
    "    \n",
    "    return obj"
   ]
  },
  {
   "cell_type": "code",
   "execution_count": 2,
   "id": "31c293af",
   "metadata": {},
   "outputs": [],
   "source": [
    "def statistics():\n",
    "    obj = dcc.RadioItems(\n",
    "        id = \"stats\",\n",
    "        options=[\n",
    "            {'label': 'max','value':'max'},\n",
    "            {'label': 'min','value':'min'},\n",
    "            {'label': 'mean','value':'mean'}],\n",
    "        value = 'mean'\n",
    "    )\n",
    "    \n",
    "    return obj"
   ]
  },
  {
   "cell_type": "code",
   "execution_count": 3,
   "id": "9da74c43",
   "metadata": {},
   "outputs": [],
   "source": [
    "import pandas as pd\n",
    "from to_db import Connector"
   ]
  },
  {
   "cell_type": "code",
   "execution_count": 5,
   "id": "bf291290",
   "metadata": {},
   "outputs": [],
   "source": [
    "conn = Connector()\n",
    "df = conn.get_data()\n",
    "df[\"date\"] = pd.to_datetime(df['date'])\n",
    "data = df.groupby(\"date\").mean()"
   ]
  },
  {
   "cell_type": "code",
   "execution_count": 6,
   "id": "8b0218a2",
   "metadata": {},
   "outputs": [],
   "source": [
    "from datetime import datetime, timedelta"
   ]
  },
  {
   "cell_type": "code",
   "execution_count": 7,
   "id": "d41fafe7",
   "metadata": {},
   "outputs": [],
   "source": [
    "from time import localtime,strftime"
   ]
  },
  {
   "cell_type": "code",
   "execution_count": 13,
   "id": "c3db520e",
   "metadata": {},
   "outputs": [],
   "source": [
    "td = datetime.now()"
   ]
  },
  {
   "cell_type": "code",
   "execution_count": 17,
   "id": "d537ccd8",
   "metadata": {},
   "outputs": [
    {
     "name": "stderr",
     "output_type": "stream",
     "text": [
      "/usr/lib/python3/dist-packages/ipykernel_launcher.py:1: FutureWarning: Comparing Series of datetimes with 'datetime.date'.  Currently, the\n",
      "'datetime.date' is coerced to a datetime. In the future pandas will\n",
      "not coerce, and 'the values will not compare equal to the\n",
      "'datetime.date'. To retain the current behavior, convert the\n",
      "'datetime.date' to a datetime with 'pd.Timestamp'.\n",
      "  \"\"\"Entry point for launching an IPython kernel.\n"
     ]
    }
   ],
   "source": [
    "today = df.loc[df['date'] == td.date()]"
   ]
  },
  {
   "cell_type": "code",
   "execution_count": 18,
   "id": "a2943a59",
   "metadata": {},
   "outputs": [
    {
     "data": {
      "text/html": [
       "<div>\n",
       "<style scoped>\n",
       "    .dataframe tbody tr th:only-of-type {\n",
       "        vertical-align: middle;\n",
       "    }\n",
       "\n",
       "    .dataframe tbody tr th {\n",
       "        vertical-align: top;\n",
       "    }\n",
       "\n",
       "    .dataframe thead th {\n",
       "        text-align: right;\n",
       "    }\n",
       "</style>\n",
       "<table border=\"1\" class=\"dataframe\">\n",
       "  <thead>\n",
       "    <tr style=\"text-align: right;\">\n",
       "      <th></th>\n",
       "      <th>id</th>\n",
       "      <th>date</th>\n",
       "      <th>time</th>\n",
       "      <th>temperature</th>\n",
       "    </tr>\n",
       "  </thead>\n",
       "  <tbody>\n",
       "    <tr>\n",
       "      <th>134739</th>\n",
       "      <td>134740</td>\n",
       "      <td>2022-01-21</td>\n",
       "      <td>18:21:00</td>\n",
       "      <td>27.5</td>\n",
       "    </tr>\n",
       "    <tr>\n",
       "      <th>134740</th>\n",
       "      <td>134741</td>\n",
       "      <td>2022-01-21</td>\n",
       "      <td>18:22:00</td>\n",
       "      <td>27.5</td>\n",
       "    </tr>\n",
       "    <tr>\n",
       "      <th>134741</th>\n",
       "      <td>134742</td>\n",
       "      <td>2022-01-21</td>\n",
       "      <td>18:23:00</td>\n",
       "      <td>27.5</td>\n",
       "    </tr>\n",
       "    <tr>\n",
       "      <th>134742</th>\n",
       "      <td>134743</td>\n",
       "      <td>2022-01-21</td>\n",
       "      <td>18:24:00</td>\n",
       "      <td>27.5</td>\n",
       "    </tr>\n",
       "    <tr>\n",
       "      <th>134743</th>\n",
       "      <td>134744</td>\n",
       "      <td>2022-01-21</td>\n",
       "      <td>18:25:00</td>\n",
       "      <td>27.5</td>\n",
       "    </tr>\n",
       "  </tbody>\n",
       "</table>\n",
       "</div>"
      ],
      "text/plain": [
       "            id       date      time  temperature\n",
       "134739  134740 2022-01-21  18:21:00         27.5\n",
       "134740  134741 2022-01-21  18:22:00         27.5\n",
       "134741  134742 2022-01-21  18:23:00         27.5\n",
       "134742  134743 2022-01-21  18:24:00         27.5\n",
       "134743  134744 2022-01-21  18:25:00         27.5"
      ]
     },
     "execution_count": 18,
     "metadata": {},
     "output_type": "execute_result"
    }
   ],
   "source": [
    "today.tail()"
   ]
  },
  {
   "cell_type": "code",
   "execution_count": 47,
   "id": "29793921",
   "metadata": {},
   "outputs": [],
   "source": [
    "import serial"
   ]
  },
  {
   "cell_type": "code",
   "execution_count": 48,
   "id": "d469538a",
   "metadata": {},
   "outputs": [],
   "source": [
    "ser = serial.Serial('/dev/ttyACM0')\n",
    "ser.flushInput()"
   ]
  },
  {
   "cell_type": "code",
   "execution_count": 49,
   "id": "86fe7a09",
   "metadata": {},
   "outputs": [],
   "source": [
    "READINGS = 20"
   ]
  },
  {
   "cell_type": "code",
   "execution_count": 50,
   "id": "939d7bdf",
   "metadata": {},
   "outputs": [],
   "source": [
    "from numpy import median"
   ]
  },
  {
   "cell_type": "code",
   "execution_count": 51,
   "id": "3c448e5a",
   "metadata": {},
   "outputs": [],
   "source": [
    "def read_temp(ser):\n",
    "    while True:\n",
    "        readings = []\n",
    "        try:\n",
    "            for i in range(READINGS):\n",
    "                bytes = ser.readline()\n",
    "                decoded = bytes[0:len(bytes)-2].decode(\"utf-8\")\n",
    "                decoded = float(decoded)\n",
    "                readings.append(decoded)\n",
    "            break\n",
    "        except:\n",
    "            pass\n",
    "\n",
    "    return median(decoded)"
   ]
  },
  {
   "cell_type": "code",
   "execution_count": 53,
   "id": "475bf59e",
   "metadata": {},
   "outputs": [],
   "source": [
    "temp  = read_temp(ser)"
   ]
  },
  {
   "cell_type": "code",
   "execution_count": 69,
   "id": "754ce529",
   "metadata": {},
   "outputs": [],
   "source": [
    "from jupyter_dash import JupyterDash\n",
    "from dash import dcc\n",
    "from dash import html\n",
    "from dash.dependencies import Input, Output\n",
    "import plotly.express as px\n",
    "from plotly.subplots import make_subplots\n",
    "import plotly.graph_objects as go\n",
    "from datetime import date\n",
    "\n",
    "\n",
    "\n",
    "stats = {\"mean\": df.groupby(\"date\").mean(),\"max\":df.groupby(\"date\").max(),\"min\":df.groupby(\"date\").min()}\n",
    "\n",
    "\n",
    "app = JupyterDash(__name__)\n",
    "colours = {'text': '#7FDBFF', 'background':'#777777'}\n",
    "text_size = {'H1':48,'H2':40,'text':36}\n",
    "\n",
    "# fig = make_subplots(rows = 1, cols= 2)\n",
    "\n",
    "# fig.add_trace(go.Scatter(x = data.index, y = data[\"temperature\"]),row=1,col=1)\n",
    "# fig.add_trace(go.Scatter(x= today[\"time\"], y= today[\"temperature\"]),row=1,col=2)\n",
    "\n",
    "fig = px.scatter(x = data.index, y = data[\"temperature\"])\n",
    "fig.update_yaxes(rangemode = \"tozero\")\n",
    "\n",
    "fig2 = go.Figure(go.Indicator(mode=\"gauge+number\",value=temp,title={'text':'Temperature/C'}))\n",
    "\n",
    "\n",
    "app.layout = html.Div(style={'backgroundColor':colours['background'],'fontFamily':'calibri'}, children=[\n",
    "\n",
    "    html.H1(children='Room Temperature',\n",
    "        style = {'textAlign': 'center',\n",
    "                 'color':colours['text'],\n",
    "                 'fontSize':text_size['H1']}),\n",
    "\n",
    "    date_range(),\n",
    "    \n",
    "    statistics(),\n",
    "    \n",
    "    dcc.Graph(\n",
    "        id='graph2',\n",
    "        figure=fig2\n",
    "    ),\n",
    "\n",
    "    dcc.Graph(\n",
    "        id='graph',\n",
    "        figure=fig\n",
    "    )\n",
    "])\n",
    "\n",
    "@app.callback(\n",
    "    Output('graph2','figure'),\n",
    "    Output('graph','figure'),\n",
    "    Input('stats','value'))\n",
    "def update_figure(stat):\n",
    "    temp  = read_temp(ser)\n",
    "    data = stats[stat]\n",
    "    \n",
    "    fig = px.scatter(x = data.index, y = data[\"temperature\"])\n",
    "    fig.update_yaxes(rangemode = \"tozero\")\n",
    "    fig2 = go.Figure(go.Indicator(mode=\"gauge+number\",value=temp,title={'text':'Temperature/C'}))\n",
    "\n",
    "#     fig.data =[]\n",
    "\n",
    "#     fig.add_trace(go.Scatter(x = data.index, y = data[\"temperature\"]),row=1,col=1)\n",
    "#     fig.add_trace(go.Scatter(x=today[\"time\"], y=today[\"temperature\"]),row=1,col=2)\n",
    "#     fig.update_layout(showlegend=False)\n",
    "    \n",
    "    return fig2,fig"
   ]
  },
  {
   "cell_type": "code",
   "execution_count": 70,
   "id": "e17e52c4",
   "metadata": {},
   "outputs": [
    {
     "name": "stderr",
     "output_type": "stream",
     "text": [
      "/home/blunt/.local/lib/python3.7/site-packages/jupyter_dash/jupyter_app.py:139: UserWarning:\n",
      "\n",
      "The 'environ['werkzeug.server.shutdown']' function is deprecated and will be removed in Werkzeug 2.1.\n",
      "\n"
     ]
    },
    {
     "data": {
      "text/html": [
       "\n",
       "        <iframe\n",
       "            width=\"100%\"\n",
       "            height=\"650\"\n",
       "            src=\"http://127.0.0.1:8050/\"\n",
       "            frameborder=\"0\"\n",
       "            allowfullscreen\n",
       "        ></iframe>\n",
       "        "
      ],
      "text/plain": [
       "<IPython.lib.display.IFrame at 0xa5d50bd0>"
      ]
     },
     "metadata": {},
     "output_type": "display_data"
    }
   ],
   "source": [
    "app.run_server(mode = \"inline\")"
   ]
  },
  {
   "cell_type": "code",
   "execution_count": 21,
   "id": "b4386ba2",
   "metadata": {},
   "outputs": [],
   "source": [
    "dat = conn.get_data()"
   ]
  },
  {
   "cell_type": "code",
   "execution_count": 33,
   "id": "72f517ba",
   "metadata": {},
   "outputs": [
    {
     "data": {
      "text/plain": [
       "time.struct_time(tm_year=2022, tm_mon=1, tm_mday=21, tm_hour=0, tm_min=0, tm_sec=0, tm_wday=4, tm_yday=21, tm_isdst=-1)"
      ]
     },
     "execution_count": 33,
     "metadata": {},
     "output_type": "execute_result"
    }
   ],
   "source": [
    "strptime(strftime(\"%Y-%m-%d\",localtime()),\"%Y-%m-%d\")"
   ]
  },
  {
   "cell_type": "code",
   "execution_count": 42,
   "id": "67de3922",
   "metadata": {},
   "outputs": [
    {
     "data": {
      "text/plain": [
       "datetime.date(2022, 1, 21)"
      ]
     },
     "execution_count": 42,
     "metadata": {},
     "output_type": "execute_result"
    }
   ],
   "source": [
    "df['date'].tail(1).values[0]"
   ]
  },
  {
   "cell_type": "code",
   "execution_count": 59,
   "id": "be245ba7",
   "metadata": {},
   "outputs": [
    {
     "data": {
      "text/plain": [
       "datetime.date(2022, 1, 21)"
      ]
     },
     "execution_count": 59,
     "metadata": {},
     "output_type": "execute_result"
    }
   ],
   "source": [
    "datetime.strptime(td,\"%Y-%m-%d\").date()"
   ]
  },
  {
   "cell_type": "code",
   "execution_count": 71,
   "id": "0efded9e",
   "metadata": {},
   "outputs": [
    {
     "data": {
      "text/plain": [
       "0    2021-09-22\n",
       "1    2021-09-22\n",
       "2    2021-09-22\n",
       "3    2021-09-22\n",
       "4    2021-09-22\n",
       "Name: date, dtype: object"
      ]
     },
     "execution_count": 71,
     "metadata": {},
     "output_type": "execute_result"
    }
   ],
   "source": [
    "df[\"date\"].head()"
   ]
  },
  {
   "cell_type": "code",
   "execution_count": 72,
   "id": "e41deaca",
   "metadata": {},
   "outputs": [
    {
     "name": "stdout",
     "output_type": "stream",
     "text": [
      "<class 'pandas.core.frame.DataFrame'>\n",
      "RangeIndex: 134639 entries, 0 to 134638\n",
      "Data columns (total 4 columns):\n",
      "id             134639 non-null int64\n",
      "date           134639 non-null object\n",
      "time           134639 non-null object\n",
      "temperature    134639 non-null float64\n",
      "dtypes: float64(1), int64(1), object(2)\n",
      "memory usage: 3.1+ MB\n"
     ]
    }
   ],
   "source": [
    "df.info()"
   ]
  },
  {
   "cell_type": "code",
   "execution_count": 73,
   "id": "88844c44",
   "metadata": {},
   "outputs": [
    {
     "data": {
      "text/plain": [
       "datetime.date"
      ]
     },
     "execution_count": 73,
     "metadata": {},
     "output_type": "execute_result"
    }
   ],
   "source": [
    "type(df[\"date\"].head().values[0])"
   ]
  },
  {
   "cell_type": "code",
   "execution_count": 75,
   "id": "8dcebba1",
   "metadata": {},
   "outputs": [
    {
     "data": {
      "text/plain": [
       "datetime.date(2022, 1, 21)"
      ]
     },
     "execution_count": 75,
     "metadata": {},
     "output_type": "execute_result"
    }
   ],
   "source": [
    "datetime.now().date()"
   ]
  },
  {
   "cell_type": "code",
   "execution_count": 76,
   "id": "34f020ae",
   "metadata": {},
   "outputs": [],
   "source": [
    "df[\"date2\"] = pd.to_datetime(df['date'])"
   ]
  },
  {
   "cell_type": "code",
   "execution_count": 77,
   "id": "ccf60742",
   "metadata": {},
   "outputs": [
    {
     "name": "stdout",
     "output_type": "stream",
     "text": [
      "<class 'pandas.core.frame.DataFrame'>\n",
      "RangeIndex: 134639 entries, 0 to 134638\n",
      "Data columns (total 5 columns):\n",
      "id             134639 non-null int64\n",
      "date           134639 non-null object\n",
      "time           134639 non-null object\n",
      "temperature    134639 non-null float64\n",
      "date2          134639 non-null datetime64[ns]\n",
      "dtypes: datetime64[ns](1), float64(1), int64(1), object(2)\n",
      "memory usage: 4.1+ MB\n"
     ]
    }
   ],
   "source": [
    "df.info()"
   ]
  },
  {
   "cell_type": "code",
   "execution_count": 78,
   "id": "8b7ff9cb",
   "metadata": {},
   "outputs": [
    {
     "data": {
      "text/plain": [
       "0   2021-09-22\n",
       "1   2021-09-22\n",
       "2   2021-09-22\n",
       "3   2021-09-22\n",
       "4   2021-09-22\n",
       "Name: date2, dtype: datetime64[ns]"
      ]
     },
     "execution_count": 78,
     "metadata": {},
     "output_type": "execute_result"
    }
   ],
   "source": [
    "df[\"date2\"].head()"
   ]
  },
  {
   "cell_type": "code",
   "execution_count": 79,
   "id": "2ed3598a",
   "metadata": {},
   "outputs": [],
   "source": [
    "df[\"string\"] = \"string\""
   ]
  },
  {
   "cell_type": "code",
   "execution_count": 80,
   "id": "2e0d8d0e",
   "metadata": {},
   "outputs": [
    {
     "name": "stdout",
     "output_type": "stream",
     "text": [
      "<class 'pandas.core.frame.DataFrame'>\n",
      "RangeIndex: 134639 entries, 0 to 134638\n",
      "Data columns (total 6 columns):\n",
      "id             134639 non-null int64\n",
      "date           134639 non-null object\n",
      "time           134639 non-null object\n",
      "temperature    134639 non-null float64\n",
      "date2          134639 non-null datetime64[ns]\n",
      "string         134639 non-null object\n",
      "dtypes: datetime64[ns](1), float64(1), int64(1), object(3)\n",
      "memory usage: 4.6+ MB\n"
     ]
    }
   ],
   "source": [
    "df.info()"
   ]
  },
  {
   "cell_type": "code",
   "execution_count": null,
   "id": "e966e34f",
   "metadata": {},
   "outputs": [],
   "source": []
  }
 ],
 "metadata": {
  "kernelspec": {
   "display_name": "Python 3",
   "language": "python",
   "name": "python3"
  },
  "language_info": {
   "codemirror_mode": {
    "name": "ipython",
    "version": 3
   },
   "file_extension": ".py",
   "mimetype": "text/x-python",
   "name": "python",
   "nbconvert_exporter": "python",
   "pygments_lexer": "ipython3",
   "version": "3.7.3"
  }
 },
 "nbformat": 4,
 "nbformat_minor": 5
}
