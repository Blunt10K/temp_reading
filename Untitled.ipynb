{
 "cells": [
  {
   "cell_type": "code",
   "execution_count": 14,
   "id": "7aae8f0a",
   "metadata": {},
   "outputs": [],
   "source": [
    "import pandas as pd"
   ]
  },
  {
   "cell_type": "code",
   "execution_count": 15,
   "id": "8101c257",
   "metadata": {},
   "outputs": [],
   "source": [
    "df = pd.read_csv('data.csv')"
   ]
  },
  {
   "cell_type": "code",
   "execution_count": 16,
   "id": "ba51e8f1",
   "metadata": {},
   "outputs": [],
   "source": [
    "def time_format(hour):\n",
    "    if(hour<10):\n",
    "        return '0'+str(hour)\n",
    "    \n",
    "    return str(hour)"
   ]
  },
  {
   "cell_type": "code",
   "execution_count": 17,
   "id": "226851c6",
   "metadata": {},
   "outputs": [],
   "source": [
    "timify = lambda hour, minute : time_format(hour) + ':' + time_format(minute) \n",
    "\n",
    "# df['Time'] = map(timify, df['Hour'],df['Minute'])"
   ]
  },
  {
   "cell_type": "code",
   "execution_count": 18,
   "id": "290e5739",
   "metadata": {},
   "outputs": [],
   "source": [
    "time = list(map(timify, df['Hour'],df['Minute']))"
   ]
  },
  {
   "cell_type": "code",
   "execution_count": 19,
   "id": "ca6a1ccf",
   "metadata": {},
   "outputs": [],
   "source": [
    "df.insert(3,\"Time\", time)"
   ]
  },
  {
   "cell_type": "code",
   "execution_count": 30,
   "id": "1f54987f",
   "metadata": {},
   "outputs": [],
   "source": [
    "df = df.drop(['Hour','Minute'],axis=1)"
   ]
  },
  {
   "cell_type": "code",
   "execution_count": 31,
   "id": "cfb0564f",
   "metadata": {},
   "outputs": [
    {
     "data": {
      "text/plain": [
       "11688"
      ]
     },
     "execution_count": 31,
     "metadata": {},
     "output_type": "execute_result"
    }
   ],
   "source": [
    "len(df)"
   ]
  },
  {
   "cell_type": "code",
   "execution_count": 32,
   "id": "b3c76b8f",
   "metadata": {},
   "outputs": [
    {
     "data": {
      "text/plain": [
       "'00:00'"
      ]
     },
     "execution_count": 32,
     "metadata": {},
     "output_type": "execute_result"
    }
   ],
   "source": [
    "time[0]"
   ]
  },
  {
   "cell_type": "code",
   "execution_count": 33,
   "id": "26edc8f8",
   "metadata": {},
   "outputs": [
    {
     "data": {
      "text/html": [
       "<div>\n",
       "<style scoped>\n",
       "    .dataframe tbody tr th:only-of-type {\n",
       "        vertical-align: middle;\n",
       "    }\n",
       "\n",
       "    .dataframe tbody tr th {\n",
       "        vertical-align: top;\n",
       "    }\n",
       "\n",
       "    .dataframe thead th {\n",
       "        text-align: right;\n",
       "    }\n",
       "</style>\n",
       "<table border=\"1\" class=\"dataframe\">\n",
       "  <thead>\n",
       "    <tr style=\"text-align: right;\">\n",
       "      <th></th>\n",
       "      <th>Day</th>\n",
       "      <th>Month</th>\n",
       "      <th>Year</th>\n",
       "      <th>Time</th>\n",
       "      <th>Temperature(Celsius)</th>\n",
       "    </tr>\n",
       "  </thead>\n",
       "  <tbody>\n",
       "    <tr>\n",
       "      <th>0</th>\n",
       "      <td>22</td>\n",
       "      <td>Sep</td>\n",
       "      <td>2021</td>\n",
       "      <td>00:00</td>\n",
       "      <td>19.5</td>\n",
       "    </tr>\n",
       "    <tr>\n",
       "      <th>1</th>\n",
       "      <td>22</td>\n",
       "      <td>Sep</td>\n",
       "      <td>2021</td>\n",
       "      <td>00:01</td>\n",
       "      <td>19.5</td>\n",
       "    </tr>\n",
       "    <tr>\n",
       "      <th>2</th>\n",
       "      <td>22</td>\n",
       "      <td>Sep</td>\n",
       "      <td>2021</td>\n",
       "      <td>00:02</td>\n",
       "      <td>19.5</td>\n",
       "    </tr>\n",
       "    <tr>\n",
       "      <th>3</th>\n",
       "      <td>22</td>\n",
       "      <td>Sep</td>\n",
       "      <td>2021</td>\n",
       "      <td>00:29</td>\n",
       "      <td>0.5</td>\n",
       "    </tr>\n",
       "    <tr>\n",
       "      <th>4</th>\n",
       "      <td>22</td>\n",
       "      <td>Sep</td>\n",
       "      <td>2021</td>\n",
       "      <td>00:30</td>\n",
       "      <td>19.5</td>\n",
       "    </tr>\n",
       "  </tbody>\n",
       "</table>\n",
       "</div>"
      ],
      "text/plain": [
       "   Day Month  Year   Time  Temperature(Celsius)\n",
       "0   22   Sep  2021  00:00                  19.5\n",
       "1   22   Sep  2021  00:01                  19.5\n",
       "2   22   Sep  2021  00:02                  19.5\n",
       "3   22   Sep  2021  00:29                   0.5\n",
       "4   22   Sep  2021  00:30                  19.5"
      ]
     },
     "execution_count": 33,
     "metadata": {},
     "output_type": "execute_result"
    }
   ],
   "source": [
    "df.head()"
   ]
  },
  {
   "cell_type": "code",
   "execution_count": 34,
   "id": "45bc389e",
   "metadata": {},
   "outputs": [],
   "source": [
    "df.to_csv(\"data.csv\",index = False)"
   ]
  },
  {
   "cell_type": "code",
   "execution_count": null,
   "id": "7e4df31f",
   "metadata": {},
   "outputs": [],
   "source": []
  }
 ],
 "metadata": {
  "kernelspec": {
   "display_name": "Python 3",
   "language": "python",
   "name": "python3"
  },
  "language_info": {
   "codemirror_mode": {
    "name": "ipython",
    "version": 3
   },
   "file_extension": ".py",
   "mimetype": "text/x-python",
   "name": "python",
   "nbconvert_exporter": "python",
   "pygments_lexer": "ipython3",
   "version": "3.7.3"
  }
 },
 "nbformat": 4,
 "nbformat_minor": 5
}
