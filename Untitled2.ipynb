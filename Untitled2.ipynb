{
 "cells": [
  {
   "cell_type": "code",
   "execution_count": 1,
   "id": "5a290b2b",
   "metadata": {},
   "outputs": [],
   "source": [
    "from mariadb import Date, Time\n",
    "from time import strftime\n",
    "import sqlalchemy\n",
    "from to_db import Connector\n",
    "import pandas as pd"
   ]
  },
  {
   "cell_type": "code",
   "execution_count": 2,
   "id": "a3f33ea4",
   "metadata": {},
   "outputs": [],
   "source": [
    "def get_dates(conn):\n",
    "\n",
    "    first = input(\"Date? yyyy-mm-dd\\n\")\n",
    "    last = input(\"\\nDate? yyyy-mm-dd\\n\")\n",
    "\n",
    "    ds = first.split('-')\n",
    "    cs = last.split('-')\n",
    "\n",
    "\n",
    "    first = Date(int(ds[0]),int(ds[1]),int(ds[2]))\n",
    "    last = Date(int(cs[0]),int(cs[1]),int(cs[2]))\n",
    "\n",
    "\n",
    "    return conn.dates(first, last)"
   ]
  },
  {
   "cell_type": "code",
   "execution_count": 3,
   "id": "c55d1910",
   "metadata": {},
   "outputs": [
    {
     "name": "stdout",
     "output_type": "stream",
     "text": [
      "Date? yyyy-mm-dd\n",
      "2021-11-11\n",
      "\n",
      "Date? yyyy-mm-dd\n",
      "2021-11-20\n",
      "60654 2021-11-11 09:11:00 15.5\n",
      "60655 2021-11-11 09:12:00 15.5\n",
      "60656 2021-11-11 09:13:00 15.5\n",
      "60657 2021-11-11 09:14:00 15.5\n",
      "60658 2021-11-11 09:15:00 15.5\n",
      "60659 2021-11-11 09:16:00 15.5\n",
      "60660 2021-11-11 09:17:00 15.5\n",
      "60661 2021-11-11 09:18:00 15.5\n",
      "60662 2021-11-11 09:19:00 15.5\n",
      "60663 2021-11-11 09:20:00 15.5\n",
      "60664 2021-11-11 09:21:00 15.5\n"
     ]
    }
   ],
   "source": [
    "conn = Connector()\n",
    "dates = get_dates(conn)\n",
    "k = 0\n",
    "for i in dates:\n",
    "    print(i.id, i.date,i.time,i.temperature)\n",
    "    k+=1\n",
    "\n",
    "    if(k>10):\n",
    "        break"
   ]
  },
  {
   "cell_type": "code",
   "execution_count": 4,
   "id": "10110537",
   "metadata": {},
   "outputs": [
    {
     "data": {
      "text/plain": [
       "<sqlalchemy.orm.query.Query at 0xa84703d0>"
      ]
     },
     "execution_count": 4,
     "metadata": {},
     "output_type": "execute_result"
    }
   ],
   "source": [
    "dates"
   ]
  },
  {
   "cell_type": "code",
   "execution_count": 7,
   "id": "51d2c58a",
   "metadata": {},
   "outputs": [],
   "source": [
    "df = pd.read_sql(dates.statement,dates.session.bind)"
   ]
  },
  {
   "cell_type": "code",
   "execution_count": 10,
   "id": "bb5a4899",
   "metadata": {},
   "outputs": [],
   "source": [
    "f= df.groupby(['date']).mean()"
   ]
  },
  {
   "cell_type": "code",
   "execution_count": 12,
   "id": "5ecb38c0",
   "metadata": {},
   "outputs": [
    {
     "data": {
      "text/plain": [
       "Index([2021-11-11, 2021-11-12, 2021-11-13, 2021-11-14, 2021-11-15, 2021-11-16,\n",
       "       2021-11-17, 2021-11-18, 2021-11-19, 2021-11-20],\n",
       "      dtype='object', name='date')"
      ]
     },
     "execution_count": 12,
     "metadata": {},
     "output_type": "execute_result"
    }
   ],
   "source": [
    "f.index"
   ]
  },
  {
   "cell_type": "code",
   "execution_count": null,
   "id": "2cf51ffa",
   "metadata": {},
   "outputs": [],
   "source": []
  }
 ],
 "metadata": {
  "kernelspec": {
   "display_name": "Python 3",
   "language": "python",
   "name": "python3"
  },
  "language_info": {
   "codemirror_mode": {
    "name": "ipython",
    "version": 3
   },
   "file_extension": ".py",
   "mimetype": "text/x-python",
   "name": "python",
   "nbconvert_exporter": "python",
   "pygments_lexer": "ipython3",
   "version": "3.7.3"
  }
 },
 "nbformat": 4,
 "nbformat_minor": 5
}
