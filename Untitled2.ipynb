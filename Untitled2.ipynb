{
 "cells": [
  {
   "cell_type": "code",
   "execution_count": 1,
   "id": "9d151af1",
   "metadata": {},
   "outputs": [],
   "source": [
    "from mariadb import Date, Time\n",
    "from time import strftime\n",
    "import sqlalchemy\n",
    "from to_db import Connector\n",
    "import pandas as pd"
   ]
  },
  {
   "cell_type": "code",
   "execution_count": 2,
   "id": "4d183f0f",
   "metadata": {},
   "outputs": [],
   "source": [
    "from sqlalchemy.sql.expression import func"
   ]
  },
  {
   "cell_type": "code",
   "execution_count": 3,
   "id": "c5bef5fc",
   "metadata": {},
   "outputs": [],
   "source": [
    "def get_dates(conn):\n",
    "\n",
    "    first = input(\"Date? yyyy-mm-dd\\n\")\n",
    "    last = input(\"\\nDate? yyyy-mm-dd\\n\")\n",
    "\n",
    "    ds = first.split('-')\n",
    "    cs = last.split('-')\n",
    "\n",
    "\n",
    "    first = Date(int(ds[0]),int(ds[1]),int(ds[2]))\n",
    "    last = Date(int(cs[0]),int(cs[1]),int(cs[2]))\n",
    "\n",
    "\n",
    "    return conn.dates(first, last)"
   ]
  },
  {
   "cell_type": "code",
   "execution_count": 4,
   "id": "d66b6d26",
   "metadata": {},
   "outputs": [
    {
     "name": "stdout",
     "output_type": "stream",
     "text": [
      "Date? yyyy-mm-dd\n",
      "2021-11-11\n",
      "\n",
      "Date? yyyy-mm-dd\n",
      "2021-11-20\n",
      "60654 2021-11-11 09:11:00 15.5\n",
      "60655 2021-11-11 09:12:00 15.5\n",
      "60656 2021-11-11 09:13:00 15.5\n",
      "60657 2021-11-11 09:14:00 15.5\n",
      "60658 2021-11-11 09:15:00 15.5\n",
      "60659 2021-11-11 09:16:00 15.5\n",
      "60660 2021-11-11 09:17:00 15.5\n",
      "60661 2021-11-11 09:18:00 15.5\n",
      "60662 2021-11-11 09:19:00 15.5\n",
      "60663 2021-11-11 09:20:00 15.5\n",
      "60664 2021-11-11 09:21:00 15.5\n"
     ]
    }
   ],
   "source": [
    "conn = Connector()\n",
    "dates = get_dates(conn)\n",
    "k = 0\n",
    "for i in dates:\n",
    "    print(i.id, i.date,i.time,i.temperature)\n",
    "    k+=1\n",
    "\n",
    "    if(k>10):\n",
    "        break"
   ]
  },
  {
   "cell_type": "code",
   "execution_count": 5,
   "id": "9845d45d",
   "metadata": {},
   "outputs": [],
   "source": [
    "max_temp = conn.max_temp(dates,'date')"
   ]
  },
  {
   "cell_type": "code",
   "execution_count": 6,
   "id": "e605489b",
   "metadata": {},
   "outputs": [
    {
     "data": {
      "text/plain": [
       "date\n",
       "2021-11-11     16.5\n",
       "2021-11-12     16.5\n",
       "2021-11-13     15.5\n",
       "2021-11-14     16.0\n",
       "2021-11-15     50.0\n",
       "2021-11-16    100.0\n",
       "2021-11-17     14.5\n",
       "2021-11-18     16.5\n",
       "2021-11-19     20.0\n",
       "2021-11-20     17.5\n",
       "Name: temperature, dtype: float64"
      ]
     },
     "execution_count": 6,
     "metadata": {},
     "output_type": "execute_result"
    }
   ],
   "source": [
    "max_temp"
   ]
  },
  {
   "cell_type": "code",
   "execution_count": 7,
   "id": "95d592f2",
   "metadata": {},
   "outputs": [],
   "source": [
    "min_temp = conn.min_temp(dates,'date')"
   ]
  },
  {
   "cell_type": "code",
   "execution_count": 8,
   "id": "d052ea0c",
   "metadata": {},
   "outputs": [
    {
     "data": {
      "text/plain": [
       "date\n",
       "2021-11-11    15.5\n",
       "2021-11-12    15.5\n",
       "2021-11-13    15.5\n",
       "2021-11-14     0.0\n",
       "2021-11-15    15.5\n",
       "2021-11-16     1.0\n",
       "2021-11-17     0.5\n",
       "2021-11-18    13.5\n",
       "2021-11-19     0.0\n",
       "2021-11-20    16.5\n",
       "Name: temperature, dtype: float64"
      ]
     },
     "execution_count": 8,
     "metadata": {},
     "output_type": "execute_result"
    }
   ],
   "source": [
    "min_temp"
   ]
  },
  {
   "cell_type": "code",
   "execution_count": 8,
   "id": "f559e429",
   "metadata": {},
   "outputs": [],
   "source": [
    "df = pd.read_sql(dates.statement,dates.session.bind)"
   ]
  },
  {
   "cell_type": "code",
   "execution_count": 16,
   "id": "bf24d269",
   "metadata": {},
   "outputs": [],
   "source": [
    "f= df.groupby(['date'])['temperature'].describe()"
   ]
  },
  {
   "cell_type": "code",
   "execution_count": 17,
   "id": "56bde68d",
   "metadata": {},
   "outputs": [
    {
     "data": {
      "text/plain": [
       "Index([2021-11-11, 2021-11-12, 2021-11-13, 2021-11-14, 2021-11-15, 2021-11-16,\n",
       "       2021-11-17, 2021-11-18, 2021-11-19, 2021-11-20],\n",
       "      dtype='object', name='date')"
      ]
     },
     "execution_count": 17,
     "metadata": {},
     "output_type": "execute_result"
    }
   ],
   "source": [
    "f.index"
   ]
  },
  {
   "cell_type": "code",
   "execution_count": 18,
   "id": "395f2584",
   "metadata": {},
   "outputs": [
    {
     "data": {
      "text/html": [
       "<div>\n",
       "<style scoped>\n",
       "    .dataframe tbody tr th:only-of-type {\n",
       "        vertical-align: middle;\n",
       "    }\n",
       "\n",
       "    .dataframe tbody tr th {\n",
       "        vertical-align: top;\n",
       "    }\n",
       "\n",
       "    .dataframe thead th {\n",
       "        text-align: right;\n",
       "    }\n",
       "</style>\n",
       "<table border=\"1\" class=\"dataframe\">\n",
       "  <thead>\n",
       "    <tr style=\"text-align: right;\">\n",
       "      <th></th>\n",
       "      <th>count</th>\n",
       "      <th>mean</th>\n",
       "      <th>std</th>\n",
       "      <th>min</th>\n",
       "      <th>25%</th>\n",
       "      <th>50%</th>\n",
       "      <th>75%</th>\n",
       "      <th>max</th>\n",
       "    </tr>\n",
       "    <tr>\n",
       "      <th>date</th>\n",
       "      <th></th>\n",
       "      <th></th>\n",
       "      <th></th>\n",
       "      <th></th>\n",
       "      <th></th>\n",
       "      <th></th>\n",
       "      <th></th>\n",
       "      <th></th>\n",
       "    </tr>\n",
       "  </thead>\n",
       "  <tbody>\n",
       "    <tr>\n",
       "      <th>2021-11-11</th>\n",
       "      <td>889.0</td>\n",
       "      <td>15.855456</td>\n",
       "      <td>0.478921</td>\n",
       "      <td>15.5</td>\n",
       "      <td>15.5</td>\n",
       "      <td>15.5</td>\n",
       "      <td>16.5</td>\n",
       "      <td>16.5</td>\n",
       "    </tr>\n",
       "    <tr>\n",
       "      <th>2021-11-12</th>\n",
       "      <td>1440.0</td>\n",
       "      <td>16.050694</td>\n",
       "      <td>0.497596</td>\n",
       "      <td>15.5</td>\n",
       "      <td>15.5</td>\n",
       "      <td>16.5</td>\n",
       "      <td>16.5</td>\n",
       "      <td>16.5</td>\n",
       "    </tr>\n",
       "    <tr>\n",
       "      <th>2021-11-13</th>\n",
       "      <td>1440.0</td>\n",
       "      <td>15.500000</td>\n",
       "      <td>0.000000</td>\n",
       "      <td>15.5</td>\n",
       "      <td>15.5</td>\n",
       "      <td>15.5</td>\n",
       "      <td>15.5</td>\n",
       "      <td>15.5</td>\n",
       "    </tr>\n",
       "    <tr>\n",
       "      <th>2021-11-14</th>\n",
       "      <td>1440.0</td>\n",
       "      <td>15.677431</td>\n",
       "      <td>0.634001</td>\n",
       "      <td>0.0</td>\n",
       "      <td>15.5</td>\n",
       "      <td>15.5</td>\n",
       "      <td>16.0</td>\n",
       "      <td>16.0</td>\n",
       "    </tr>\n",
       "    <tr>\n",
       "      <th>2021-11-15</th>\n",
       "      <td>1440.0</td>\n",
       "      <td>15.553819</td>\n",
       "      <td>0.916067</td>\n",
       "      <td>15.5</td>\n",
       "      <td>15.5</td>\n",
       "      <td>15.5</td>\n",
       "      <td>15.5</td>\n",
       "      <td>50.0</td>\n",
       "    </tr>\n",
       "  </tbody>\n",
       "</table>\n",
       "</div>"
      ],
      "text/plain": [
       "             count       mean       std   min   25%   50%   75%   max\n",
       "date                                                                 \n",
       "2021-11-11   889.0  15.855456  0.478921  15.5  15.5  15.5  16.5  16.5\n",
       "2021-11-12  1440.0  16.050694  0.497596  15.5  15.5  16.5  16.5  16.5\n",
       "2021-11-13  1440.0  15.500000  0.000000  15.5  15.5  15.5  15.5  15.5\n",
       "2021-11-14  1440.0  15.677431  0.634001   0.0  15.5  15.5  16.0  16.0\n",
       "2021-11-15  1440.0  15.553819  0.916067  15.5  15.5  15.5  15.5  50.0"
      ]
     },
     "execution_count": 18,
     "metadata": {},
     "output_type": "execute_result"
    }
   ],
   "source": [
    "f.head()"
   ]
  },
  {
   "cell_type": "code",
   "execution_count": null,
   "id": "0a764ff3",
   "metadata": {},
   "outputs": [],
   "source": []
  }
 ],
 "metadata": {
  "kernelspec": {
   "display_name": "Python 3",
   "language": "python",
   "name": "python3"
  },
  "language_info": {
   "codemirror_mode": {
    "name": "ipython",
    "version": 3
   },
   "file_extension": ".py",
   "mimetype": "text/x-python",
   "name": "python",
   "nbconvert_exporter": "python",
   "pygments_lexer": "ipython3",
   "version": "3.7.3"
  }
 },
 "nbformat": 4,
 "nbformat_minor": 5
}
